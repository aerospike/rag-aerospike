{
 "cells": [
  {
   "cell_type": "markdown",
   "id": "33bc78b4-c721-4d05-9523-c51cc16301d2",
   "metadata": {},
   "source": [
    "## Run Template\n",
    "\n",
    "In `server.py`, set -\n",
    "```\n",
    "from rag_aerospike import chain as rag_aerospike_chain\n",
    "\n",
    "add_routes(app, rag_aerospike_chain, path=\"/rag-aerospike\")\n",
    "```"
   ]
  },
  {
   "cell_type": "code",
   "execution_count": null,
   "id": "628445ee-5db0-4e3b-a6ca-effe14adf3f9",
   "metadata": {},
   "outputs": [],
   "source": [
    "from langserve.client import RemoteRunnable\n",
    "\n",
    "rag_app = RemoteRunnable(\"http://0.0.0.0:8001/rag_aerospike\")\n",
    "rag_app.invoke(\"How does data storage work in Aerospike?\")"
   ]
  }
 ],
 "metadata": {
  "kernelspec": {
   "display_name": "Python 3 (ipykernel)",
   "language": "python",
   "name": "python3"
  },
  "language_info": {
   "codemirror_mode": {
    "name": "ipython",
    "version": 3
   },
   "file_extension": ".py",
   "mimetype": "text/x-python",
   "name": "python",
   "nbconvert_exporter": "python",
   "pygments_lexer": "ipython3",
   "version": "3.11.2"
  }
 },
 "nbformat": 4,
 "nbformat_minor": 5
}
